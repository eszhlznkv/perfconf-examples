{
 "cells": [
  {
   "cell_type": "markdown",
   "id": "679d7318-1a64-4d9a-9e75-b2a127607b59",
   "metadata": {},
   "source": [
    "# Базовые метрики"
   ]
  },
  {
   "cell_type": "code",
   "execution_count": 3,
   "id": "c7382050-480e-40f3-ba82-2dbc02edbec6",
   "metadata": {},
   "outputs": [],
   "source": [
    "import pandas as pd"
   ]
  },
  {
   "cell_type": "markdown",
   "id": "637149c5-c11c-43ae-b152-1dec39f71484",
   "metadata": {},
   "source": [
    "### Download and unpack archive to samples folder"
   ]
  },
  {
   "cell_type": "code",
   "execution_count": 4,
   "id": "aa8f4bb8-a4d9-4d77-97b4-ea6d6cba95fa",
   "metadata": {},
   "outputs": [],
   "source": [
    "df = pd.read_csv('/Users/evgenii/Documents/GitHub/perfconf/perfcong-jmeter-examples/data/baseline/raw_data.csv')"
   ]
  },
  {
   "cell_type": "code",
   "execution_count": 5,
   "id": "58906ec8-3433-4806-a07e-9facea83595b",
   "metadata": {},
   "outputs": [],
   "source": [
    "df_result = df.groupby('sampleLabel').agg({'responseTime': ['var', 'std','median',('90th_percentile_ms', lambda x: x.quantile(0.90)),('95th_percentile_ms',lambda x: x.quantile(0.95)),('99th_percentile_ms',lambda x: x.quantile(0.99)),]})"
   ]
  },
  {
   "cell_type": "markdown",
   "id": "b5733bdb-24ac-4096-9934-d3203c9727d1",
   "metadata": {},
   "source": [
    "### Print Results"
   ]
  },
  {
   "cell_type": "code",
   "execution_count": 6,
   "id": "db20f7de-a769-42fe-b35a-ea591754603d",
   "metadata": {},
   "outputs": [
    {
     "data": {
      "text/html": [
       "<div>\n",
       "<style scoped>\n",
       "    .dataframe tbody tr th:only-of-type {\n",
       "        vertical-align: middle;\n",
       "    }\n",
       "\n",
       "    .dataframe tbody tr th {\n",
       "        vertical-align: top;\n",
       "    }\n",
       "\n",
       "    .dataframe thead tr th {\n",
       "        text-align: left;\n",
       "    }\n",
       "\n",
       "    .dataframe thead tr:last-of-type th {\n",
       "        text-align: right;\n",
       "    }\n",
       "</style>\n",
       "<table border=\"1\" class=\"dataframe\">\n",
       "  <thead>\n",
       "    <tr>\n",
       "      <th></th>\n",
       "      <th colspan=\"6\" halign=\"left\">responseTime</th>\n",
       "    </tr>\n",
       "    <tr>\n",
       "      <th></th>\n",
       "      <th>var</th>\n",
       "      <th>std</th>\n",
       "      <th>median</th>\n",
       "      <th>90th_percentile_ms</th>\n",
       "      <th>95th_percentile_ms</th>\n",
       "      <th>99th_percentile_ms</th>\n",
       "    </tr>\n",
       "    <tr>\n",
       "      <th>sampleLabel</th>\n",
       "      <th></th>\n",
       "      <th></th>\n",
       "      <th></th>\n",
       "      <th></th>\n",
       "      <th></th>\n",
       "      <th></th>\n",
       "    </tr>\n",
       "  </thead>\n",
       "  <tbody>\n",
       "    <tr>\n",
       "      <th>GET_card</th>\n",
       "      <td>218.566624</td>\n",
       "      <td>14.783999</td>\n",
       "      <td>79.0</td>\n",
       "      <td>99.0</td>\n",
       "      <td>101.0</td>\n",
       "      <td>104.0</td>\n",
       "    </tr>\n",
       "    <tr>\n",
       "      <th>GET_category</th>\n",
       "      <td>219.271662</td>\n",
       "      <td>14.807824</td>\n",
       "      <td>78.0</td>\n",
       "      <td>99.0</td>\n",
       "      <td>101.0</td>\n",
       "      <td>104.0</td>\n",
       "    </tr>\n",
       "    <tr>\n",
       "      <th>GET_mainPage</th>\n",
       "      <td>214.722216</td>\n",
       "      <td>14.653403</td>\n",
       "      <td>78.0</td>\n",
       "      <td>99.0</td>\n",
       "      <td>101.0</td>\n",
       "      <td>104.0</td>\n",
       "    </tr>\n",
       "    <tr>\n",
       "      <th>POST_card</th>\n",
       "      <td>218.226683</td>\n",
       "      <td>14.772498</td>\n",
       "      <td>78.0</td>\n",
       "      <td>99.0</td>\n",
       "      <td>101.0</td>\n",
       "      <td>104.0</td>\n",
       "    </tr>\n",
       "    <tr>\n",
       "      <th>POST_confirm</th>\n",
       "      <td>1910.570382</td>\n",
       "      <td>43.710072</td>\n",
       "      <td>127.0</td>\n",
       "      <td>189.0</td>\n",
       "      <td>196.0</td>\n",
       "      <td>203.0</td>\n",
       "    </tr>\n",
       "  </tbody>\n",
       "</table>\n",
       "</div>"
      ],
      "text/plain": [
       "             responseTime                                       \\\n",
       "                      var        std median 90th_percentile_ms   \n",
       "sampleLabel                                                      \n",
       "GET_card       218.566624  14.783999   79.0               99.0   \n",
       "GET_category   219.271662  14.807824   78.0               99.0   \n",
       "GET_mainPage   214.722216  14.653403   78.0               99.0   \n",
       "POST_card      218.226683  14.772498   78.0               99.0   \n",
       "POST_confirm  1910.570382  43.710072  127.0              189.0   \n",
       "\n",
       "                                                    \n",
       "             95th_percentile_ms 99th_percentile_ms  \n",
       "sampleLabel                                         \n",
       "GET_card                  101.0              104.0  \n",
       "GET_category              101.0              104.0  \n",
       "GET_mainPage              101.0              104.0  \n",
       "POST_card                 101.0              104.0  \n",
       "POST_confirm              196.0              203.0  "
      ]
     },
     "execution_count": 6,
     "metadata": {},
     "output_type": "execute_result"
    }
   ],
   "source": [
    "df_result"
   ]
  },
  {
   "cell_type": "markdown",
   "id": "467761f5-d204-45ba-a104-36fed41f2aef",
   "metadata": {},
   "source": [
    "## Saving results to files"
   ]
  },
  {
   "cell_type": "code",
   "execution_count": 17,
   "id": "3f69b427-ac74-475a-bb51-9c0370547e1d",
   "metadata": {},
   "outputs": [],
   "source": [
    "df_result.to_csv('/Users/evgenii/Documents/GitHub/perfconf/perfcong-jmeter-examples/data/baseline/basic_metrics.csv')"
   ]
  }
 ],
 "metadata": {
  "kernelspec": {
   "display_name": "Python 3 (ipykernel)",
   "language": "python",
   "name": "python3"
  },
  "language_info": {
   "codemirror_mode": {
    "name": "ipython",
    "version": 3
   },
   "file_extension": ".py",
   "mimetype": "text/x-python",
   "name": "python",
   "nbconvert_exporter": "python",
   "pygments_lexer": "ipython3",
   "version": "3.11.7"
  }
 },
 "nbformat": 4,
 "nbformat_minor": 5
}
