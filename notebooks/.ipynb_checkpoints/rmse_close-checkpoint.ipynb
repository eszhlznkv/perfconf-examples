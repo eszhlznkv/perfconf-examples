{
 "cells": [
  {
   "cell_type": "markdown",
   "id": "f97e9830-101d-4ac6-be84-77d735c88f1a",
   "metadata": {},
   "source": [
    "# Среднеквадратичное отклонение в качестве погрешность измерений"
   ]
  },
  {
   "cell_type": "code",
   "execution_count": 10,
   "id": "68b3a86d-e050-41dd-a2b2-c585e1b23992",
   "metadata": {},
   "outputs": [],
   "source": [
    "import pandas as pd\n",
    "import matplotlib.pyplot as plt\n",
    "import numpy as np"
   ]
  },
  {
   "cell_type": "code",
   "execution_count": 11,
   "id": "2680e280-835d-408d-95d1-176982a054e7",
   "metadata": {},
   "outputs": [],
   "source": [
    "df_raw_1 = pd.read_csv('/Users/evgenii/Documents/GitHub/perfconf/perfcong-jmeter-examples/data/baseline/raw_data.csv', low_memory=False)\n",
    "df_raw_2 = pd.read_csv('/Users/evgenii/Documents/GitHub/perfconf/perfcong-jmeter-examples/data/baseline/2nd/raw_data.csv', low_memory=False)\n",
    "\n",
    "df_raw_1 = df_raw_1[df_raw_1['sampleLabel'] == 'POST_confirm']\n",
    "df_raw_2 = df_raw_2[df_raw_2['sampleLabel'] == 'POST_confirm']\n",
    "\n",
    "df_raw_1 = df_raw_1[['startTime','responseTime']]\n",
    "df_raw_2 = df_raw_2[['startTime','responseTime']]"
   ]
  },
  {
   "cell_type": "code",
   "execution_count": 12,
   "id": "7e9925cd-f167-41fd-aca9-c57382432c34",
   "metadata": {},
   "outputs": [
    {
     "data": {
      "text/html": [
       "<div>\n",
       "<style scoped>\n",
       "    .dataframe tbody tr th:only-of-type {\n",
       "        vertical-align: middle;\n",
       "    }\n",
       "\n",
       "    .dataframe tbody tr th {\n",
       "        vertical-align: top;\n",
       "    }\n",
       "\n",
       "    .dataframe thead th {\n",
       "        text-align: right;\n",
       "    }\n",
       "</style>\n",
       "<table border=\"1\" class=\"dataframe\">\n",
       "  <thead>\n",
       "    <tr style=\"text-align: right;\">\n",
       "      <th></th>\n",
       "      <th>startTime</th>\n",
       "      <th>responseTime</th>\n",
       "    </tr>\n",
       "  </thead>\n",
       "  <tbody>\n",
       "    <tr>\n",
       "      <th>67</th>\n",
       "      <td>1716030271091</td>\n",
       "      <td>56</td>\n",
       "    </tr>\n",
       "    <tr>\n",
       "      <th>86</th>\n",
       "      <td>1716030271127</td>\n",
       "      <td>63</td>\n",
       "    </tr>\n",
       "    <tr>\n",
       "      <th>90</th>\n",
       "      <td>1716030271140</td>\n",
       "      <td>65</td>\n",
       "    </tr>\n",
       "    <tr>\n",
       "      <th>93</th>\n",
       "      <td>1716030271113</td>\n",
       "      <td>94</td>\n",
       "    </tr>\n",
       "    <tr>\n",
       "      <th>100</th>\n",
       "      <td>1716030271149</td>\n",
       "      <td>64</td>\n",
       "    </tr>\n",
       "    <tr>\n",
       "      <th>...</th>\n",
       "      <td>...</td>\n",
       "      <td>...</td>\n",
       "    </tr>\n",
       "    <tr>\n",
       "      <th>49988</th>\n",
       "      <td>1716030316490</td>\n",
       "      <td>133</td>\n",
       "    </tr>\n",
       "    <tr>\n",
       "      <th>49992</th>\n",
       "      <td>1716030316508</td>\n",
       "      <td>180</td>\n",
       "    </tr>\n",
       "    <tr>\n",
       "      <th>49996</th>\n",
       "      <td>1716030316715</td>\n",
       "      <td>78</td>\n",
       "    </tr>\n",
       "    <tr>\n",
       "      <th>49998</th>\n",
       "      <td>1716030316784</td>\n",
       "      <td>97</td>\n",
       "    </tr>\n",
       "    <tr>\n",
       "      <th>49999</th>\n",
       "      <td>1716030316872</td>\n",
       "      <td>108</td>\n",
       "    </tr>\n",
       "  </tbody>\n",
       "</table>\n",
       "<p>10000 rows × 2 columns</p>\n",
       "</div>"
      ],
      "text/plain": [
       "           startTime  responseTime\n",
       "67     1716030271091            56\n",
       "86     1716030271127            63\n",
       "90     1716030271140            65\n",
       "93     1716030271113            94\n",
       "100    1716030271149            64\n",
       "...              ...           ...\n",
       "49988  1716030316490           133\n",
       "49992  1716030316508           180\n",
       "49996  1716030316715            78\n",
       "49998  1716030316784            97\n",
       "49999  1716030316872           108\n",
       "\n",
       "[10000 rows x 2 columns]"
      ]
     },
     "execution_count": 12,
     "metadata": {},
     "output_type": "execute_result"
    }
   ],
   "source": [
    "df_raw_1"
   ]
  },
  {
   "cell_type": "markdown",
   "id": "0aeace82-91d1-4c43-bbd8-7a2f3628346f",
   "metadata": {},
   "source": [
    "# Выравниваем массивы точек"
   ]
  },
  {
   "cell_type": "code",
   "execution_count": 13,
   "id": "d916d504-87cf-482a-a8de-30a63d553988",
   "metadata": {},
   "outputs": [],
   "source": [
    "if len(df_raw_1) >= len(df_raw_2):\n",
    "    df_raw_1 = df_raw_1.iloc[:len(df_raw_2)]\n",
    "    #df_raw_2['startTime'] = df_raw_1['startTime']\n",
    "else:\n",
    "    df_raw_2 = df_raw_2.iloc[:len(df_raw_1)]\n",
    "    #df_raw_2['startTime'] = df_raw_1['startTime']"
   ]
  },
  {
   "cell_type": "code",
   "execution_count": 14,
   "id": "2ea3bfbe-ecfd-4530-8dad-d79c23a4aef6",
   "metadata": {},
   "outputs": [],
   "source": [
    "df_raw_1[\"startTime\"] = pd.to_datetime(df_raw_1[\"startTime\"], unit='ms')\n",
    "df_raw_2[\"startTime\"] = pd.to_datetime(df_raw_2[\"startTime\"], unit='ms')"
   ]
  },
  {
   "cell_type": "markdown",
   "id": "8588b1d4-514c-46be-8ae5-14feeaaac55c",
   "metadata": {},
   "source": [
    "# Делаем offset "
   ]
  },
  {
   "cell_type": "code",
   "execution_count": 15,
   "id": "689858d2-9dda-40cd-9f3e-3518186175d2",
   "metadata": {},
   "outputs": [],
   "source": [
    "min_timestamp_baseline = df_raw_1['startTime'].min()\n",
    "min_timestamp = df_raw_2['startTime'].min()\n",
    "offset = min_timestamp - min_timestamp_baseline\n",
    "#filtered_df_raw['endTime'] -= offset\n",
    "df_raw_2.loc[:,'startTime'] -= offset"
   ]
  },
  {
   "cell_type": "code",
   "execution_count": 16,
   "id": "c5d896a9-4c9c-4785-8e14-396a9a1b973f",
   "metadata": {},
   "outputs": [],
   "source": [
    "df_raw_1.set_index('startTime', inplace=True)\n",
    "df_raw_2.set_index('startTime', inplace=True)"
   ]
  },
  {
   "cell_type": "code",
   "execution_count": 17,
   "id": "7480a94e-211a-4d11-9f9e-77be7c5d8629",
   "metadata": {},
   "outputs": [],
   "source": [
    "new_df_raw_1 = df_raw_1.copy()\n",
    "new_df_raw_2 = df_raw_2.copy()\n",
    "new_df_raw_1.index = range(len(new_df_raw_1))\n",
    "new_df_raw_2.index = range(len(new_df_raw_2))"
   ]
  },
  {
   "cell_type": "code",
   "execution_count": 18,
   "id": "263e51af-9716-4e76-a79f-1830c90cf71a",
   "metadata": {},
   "outputs": [],
   "source": [
    "aligned_df = new_df_raw_1.merge(new_df_raw_2, how='inner', left_index=True, right_index=True)"
   ]
  },
  {
   "cell_type": "code",
   "execution_count": 19,
   "id": "a98dbdfe-d9d7-4d53-a84b-a0424eeda981",
   "metadata": {},
   "outputs": [
    {
     "data": {
      "text/html": [
       "<div>\n",
       "<style scoped>\n",
       "    .dataframe tbody tr th:only-of-type {\n",
       "        vertical-align: middle;\n",
       "    }\n",
       "\n",
       "    .dataframe tbody tr th {\n",
       "        vertical-align: top;\n",
       "    }\n",
       "\n",
       "    .dataframe thead th {\n",
       "        text-align: right;\n",
       "    }\n",
       "</style>\n",
       "<table border=\"1\" class=\"dataframe\">\n",
       "  <thead>\n",
       "    <tr style=\"text-align: right;\">\n",
       "      <th></th>\n",
       "      <th>responseTime_x</th>\n",
       "      <th>responseTime_y</th>\n",
       "    </tr>\n",
       "  </thead>\n",
       "  <tbody>\n",
       "    <tr>\n",
       "      <th>0</th>\n",
       "      <td>56</td>\n",
       "      <td>56</td>\n",
       "    </tr>\n",
       "    <tr>\n",
       "      <th>1</th>\n",
       "      <td>63</td>\n",
       "      <td>63</td>\n",
       "    </tr>\n",
       "    <tr>\n",
       "      <th>2</th>\n",
       "      <td>65</td>\n",
       "      <td>65</td>\n",
       "    </tr>\n",
       "    <tr>\n",
       "      <th>3</th>\n",
       "      <td>94</td>\n",
       "      <td>94</td>\n",
       "    </tr>\n",
       "    <tr>\n",
       "      <th>4</th>\n",
       "      <td>64</td>\n",
       "      <td>64</td>\n",
       "    </tr>\n",
       "    <tr>\n",
       "      <th>...</th>\n",
       "      <td>...</td>\n",
       "      <td>...</td>\n",
       "    </tr>\n",
       "    <tr>\n",
       "      <th>9995</th>\n",
       "      <td>133</td>\n",
       "      <td>133</td>\n",
       "    </tr>\n",
       "    <tr>\n",
       "      <th>9996</th>\n",
       "      <td>180</td>\n",
       "      <td>180</td>\n",
       "    </tr>\n",
       "    <tr>\n",
       "      <th>9997</th>\n",
       "      <td>78</td>\n",
       "      <td>78</td>\n",
       "    </tr>\n",
       "    <tr>\n",
       "      <th>9998</th>\n",
       "      <td>97</td>\n",
       "      <td>97</td>\n",
       "    </tr>\n",
       "    <tr>\n",
       "      <th>9999</th>\n",
       "      <td>108</td>\n",
       "      <td>108</td>\n",
       "    </tr>\n",
       "  </tbody>\n",
       "</table>\n",
       "<p>10000 rows × 2 columns</p>\n",
       "</div>"
      ],
      "text/plain": [
       "      responseTime_x  responseTime_y\n",
       "0                 56              56\n",
       "1                 63              63\n",
       "2                 65              65\n",
       "3                 94              94\n",
       "4                 64              64\n",
       "...              ...             ...\n",
       "9995             133             133\n",
       "9996             180             180\n",
       "9997              78              78\n",
       "9998              97              97\n",
       "9999             108             108\n",
       "\n",
       "[10000 rows x 2 columns]"
      ]
     },
     "execution_count": 19,
     "metadata": {},
     "output_type": "execute_result"
    }
   ],
   "source": [
    "aligned_df"
   ]
  },
  {
   "cell_type": "code",
   "execution_count": 20,
   "id": "e7cf6b7f-9df5-42f9-9e08-83efad564007",
   "metadata": {},
   "outputs": [],
   "source": [
    "rmse = np.sqrt(((aligned_df['responseTime_x'] - aligned_df['responseTime_y']) ** 2).mean())"
   ]
  },
  {
   "cell_type": "code",
   "execution_count": 21,
   "id": "abe21dbd-5a91-4ba5-b8a7-982e0b594957",
   "metadata": {},
   "outputs": [
    {
     "data": {
      "text/plain": [
       "0       0\n",
       "1       0\n",
       "2       0\n",
       "3       0\n",
       "4       0\n",
       "       ..\n",
       "9995    0\n",
       "9996    0\n",
       "9997    0\n",
       "9998    0\n",
       "9999    0\n",
       "Length: 10000, dtype: int64"
      ]
     },
     "execution_count": 21,
     "metadata": {},
     "output_type": "execute_result"
    }
   ],
   "source": [
    "aligned_df['responseTime_x'] - aligned_df['responseTime_y']"
   ]
  },
  {
   "cell_type": "markdown",
   "id": "f5247ead-89d0-46cf-9b55-01e389a53d17",
   "metadata": {},
   "source": [
    "# RMSE"
   ]
  },
  {
   "cell_type": "code",
   "execution_count": 22,
   "id": "392969cb-900e-4c0d-b187-863ac71c34e5",
   "metadata": {},
   "outputs": [
    {
     "data": {
      "text/plain": [
       "0.0"
      ]
     },
     "execution_count": 22,
     "metadata": {},
     "output_type": "execute_result"
    }
   ],
   "source": [
    "rmse"
   ]
  }
 ],
 "metadata": {
  "kernelspec": {
   "display_name": "Python 3 (ipykernel)",
   "language": "python",
   "name": "python3"
  },
  "language_info": {
   "codemirror_mode": {
    "name": "ipython",
    "version": 3
   },
   "file_extension": ".py",
   "mimetype": "text/x-python",
   "name": "python",
   "nbconvert_exporter": "python",
   "pygments_lexer": "ipython3",
   "version": "3.11.7"
  }
 },
 "nbformat": 4,
 "nbformat_minor": 5
}
